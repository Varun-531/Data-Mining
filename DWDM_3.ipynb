{
  "nbformat": 4,
  "nbformat_minor": 0,
  "metadata": {
    "colab": {
      "provenance": [],
      "authorship_tag": "ABX9TyMGaslHbzexW5lkckvRZr8C",
      "include_colab_link": true
    },
    "kernelspec": {
      "name": "python3",
      "display_name": "Python 3"
    },
    "language_info": {
      "name": "python"
    }
  },
  "cells": [
    {
      "cell_type": "markdown",
      "metadata": {
        "id": "view-in-github",
        "colab_type": "text"
      },
      "source": [
        "<a href=\"https://colab.research.google.com/github/Varun-531/Data-Mining/blob/main/DWDM_3.ipynb\" target=\"_parent\"><img src=\"https://colab.research.google.com/assets/colab-badge.svg\" alt=\"Open In Colab\"/></a>"
      ]
    },
    {
      "cell_type": "code",
      "execution_count": 61,
      "metadata": {
        "id": "2KmLZnFM_TZn"
      },
      "outputs": [],
      "source": [
        "from sklearn.datasets import load_iris\n",
        "import pandas as pd"
      ]
    },
    {
      "cell_type": "code",
      "source": [
        "iris = load_iris()\n",
        "data = pd.DataFrame(iris.data,columns = iris.feature_names)"
      ],
      "metadata": {
        "id": "gfHFo1cD_grs"
      },
      "execution_count": 62,
      "outputs": []
    },
    {
      "cell_type": "code",
      "source": [
        "data['target'] = iris.target"
      ],
      "metadata": {
        "id": "d_Nn4bkU_tbG"
      },
      "execution_count": 63,
      "outputs": []
    },
    {
      "cell_type": "markdown",
      "source": [
        "# **Cosine**"
      ],
      "metadata": {
        "id": "SmBGnYSA_znI"
      }
    },
    {
      "cell_type": "code",
      "source": [
        "from sklearn.metrics.pairwise import cosine_similarity\n",
        "cosine_similarity_result = cosine_similarity(data.iloc[[0]], data.iloc[[1]])\n",
        "cosine_similarity_result"
      ],
      "metadata": {
        "colab": {
          "base_uri": "https://localhost:8080/"
        },
        "id": "TUsiZ788_zQt",
        "outputId": "7c94e96b-d09a-49d5-f585-a9ca2bfb8c4c"
      },
      "execution_count": 64,
      "outputs": [
        {
          "output_type": "execute_result",
          "data": {
            "text/plain": [
              "array([[0.99857916]])"
            ]
          },
          "metadata": {},
          "execution_count": 64
        }
      ]
    },
    {
      "cell_type": "markdown",
      "source": [
        "# **Euclidean distance**"
      ],
      "metadata": {
        "id": "9Df7Ntd2CvV7"
      }
    },
    {
      "cell_type": "code",
      "source": [
        "from sklearn.metrics.pairwise import euclidean_distances\n",
        "euc_dis = euclidean_distances(data.iloc[[0]],data.iloc[[1]])\n",
        "euc_dis"
      ],
      "metadata": {
        "colab": {
          "base_uri": "https://localhost:8080/"
        },
        "id": "UNgxMSxaAIif",
        "outputId": "9b523262-a94a-453a-f9cb-5b31041c3dc4"
      },
      "execution_count": 66,
      "outputs": [
        {
          "output_type": "execute_result",
          "data": {
            "text/plain": [
              "array([[0.53851648]])"
            ]
          },
          "metadata": {},
          "execution_count": 66
        }
      ]
    },
    {
      "cell_type": "markdown",
      "source": [
        "# **Corr**"
      ],
      "metadata": {
        "id": "Sbec62wdF3rr"
      }
    },
    {
      "cell_type": "code",
      "source": [
        "from scipy.stats import pearsonr\n",
        "corr,_ = pearsonr(data['petal length (cm)'],data['sepal width (cm)'])\n",
        "corr"
      ],
      "metadata": {
        "colab": {
          "base_uri": "https://localhost:8080/"
        },
        "id": "XQaXvbvHDQNv",
        "outputId": "6e7a648f-c640-4280-e255-e47bfb93be6c"
      },
      "execution_count": 68,
      "outputs": [
        {
          "output_type": "execute_result",
          "data": {
            "text/plain": [
              "-0.4284401043305397"
            ]
          },
          "metadata": {},
          "execution_count": 68
        }
      ]
    },
    {
      "cell_type": "markdown",
      "source": [
        "# **Jaccard Similarity**"
      ],
      "metadata": {
        "id": "30_S0AiqF9UH"
      }
    },
    {
      "cell_type": "code",
      "source": [
        "from sklearn.metrics import jaccard_score\n",
        "import numpy as np\n",
        "\n",
        "# Assuming 'data' is your DataFrame and 'target' is the column containing the target values\n",
        "target_set_1 = set([data.iloc[0]['target']])\n",
        "target_set_2 = set([data.iloc[1]['target']])\n",
        "\n",
        "# Convert sets to lists and calculate Jaccard similarity\n",
        "jac_sim = jaccard_score(list(target_set_1), list(target_set_2), average='micro')\n",
        "jac_sim\n"
      ],
      "metadata": {
        "id": "a1ewl6XxDT7V",
        "colab": {
          "base_uri": "https://localhost:8080/"
        },
        "outputId": "e2d4faad-d66d-4586-f1b4-08896234f854"
      },
      "execution_count": 71,
      "outputs": [
        {
          "output_type": "execute_result",
          "data": {
            "text/plain": [
              "1.0"
            ]
          },
          "metadata": {},
          "execution_count": 71
        }
      ]
    },
    {
      "cell_type": "markdown",
      "source": [
        "# **Manhattan distance**"
      ],
      "metadata": {
        "id": "2zQCPXl3HIt_"
      }
    },
    {
      "cell_type": "code",
      "source": [
        "from sklearn.metrics.pairwise import manhattan_distances\n",
        "\n",
        "# Assuming 'data' is your DataFrame\n",
        "row_1 = data.iloc[[0], :-1]\n",
        "row_2 = data.iloc[[1], :-1]\n",
        "\n",
        "manhattan_dist = manhattan_distances(row_1, row_2)\n",
        "\n",
        "# Ensure 'print' is not assigned to a variable\n",
        "manhattan_dist\n"
      ],
      "metadata": {
        "colab": {
          "base_uri": "https://localhost:8080/"
        },
        "id": "m0M8HPxgHN8H",
        "outputId": "5d6fb876-f541-4de0-c9cc-e586723dbdfd"
      },
      "execution_count": 72,
      "outputs": [
        {
          "output_type": "execute_result",
          "data": {
            "text/plain": [
              "array([[0.7]])"
            ]
          },
          "metadata": {},
          "execution_count": 72
        }
      ]
    },
    {
      "cell_type": "code",
      "source": [],
      "metadata": {
        "id": "ISoc2q_5HfAy"
      },
      "execution_count": null,
      "outputs": []
    }
  ]
}